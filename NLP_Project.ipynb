{
  "nbformat": 4,
  "nbformat_minor": 0,
  "metadata": {
    "colab": {
      "name": "NLP-Project.ipynb",
      "provenance": [],
      "collapsed_sections": [],
      "include_colab_link": true
    },
    "kernelspec": {
      "name": "python3",
      "display_name": "Python 3"
    },
    "language_info": {
      "name": "python"
    }
  },
  "cells": [
    {
      "cell_type": "markdown",
      "metadata": {
        "id": "view-in-github",
        "colab_type": "text"
      },
      "source": [
        "<a href=\"https://colab.research.google.com/github/Xalp/NLP1d/blob/master/NLP_Project.ipynb\" target=\"_parent\"><img src=\"https://colab.research.google.com/assets/colab-badge.svg\" alt=\"Open In Colab\"/></a>"
      ]
    },
    {
      "cell_type": "code",
      "execution_count": null,
      "metadata": {
        "id": "l5LnwytmOmzJ",
        "outputId": "51fc865a-f085-4581-8807-76fec1861151",
        "colab": {
          "base_uri": "https://localhost:8080/"
        }
      },
      "outputs": [
        {
          "output_type": "stream",
          "name": "stdout",
          "text": [
            "Cloning into 'NLP1d'...\n",
            "remote: Enumerating objects: 39, done.\u001b[K\n",
            "remote: Counting objects:   2% (1/39)\u001b[K\rremote: Counting objects:   5% (2/39)\u001b[K\rremote: Counting objects:   7% (3/39)\u001b[K\rremote: Counting objects:  10% (4/39)\u001b[K\rremote: Counting objects:  12% (5/39)\u001b[K\rremote: Counting objects:  15% (6/39)\u001b[K\rremote: Counting objects:  17% (7/39)\u001b[K\rremote: Counting objects:  20% (8/39)\u001b[K\rremote: Counting objects:  23% (9/39)\u001b[K\rremote: Counting objects:  25% (10/39)\u001b[K\rremote: Counting objects:  28% (11/39)\u001b[K\rremote: Counting objects:  30% (12/39)\u001b[K\rremote: Counting objects:  33% (13/39)\u001b[K\rremote: Counting objects:  35% (14/39)\u001b[K\rremote: Counting objects:  38% (15/39)\u001b[K\rremote: Counting objects:  41% (16/39)\u001b[K\rremote: Counting objects:  43% (17/39)\u001b[K\rremote: Counting objects:  46% (18/39)\u001b[K\rremote: Counting objects:  48% (19/39)\u001b[K\rremote: Counting objects:  51% (20/39)\u001b[K\rremote: Counting objects:  53% (21/39)\u001b[K\rremote: Counting objects:  56% (22/39)\u001b[K\rremote: Counting objects:  58% (23/39)\u001b[K\rremote: Counting objects:  61% (24/39)\u001b[K\rremote: Counting objects:  64% (25/39)\u001b[K\rremote: Counting objects:  66% (26/39)\u001b[K\rremote: Counting objects:  69% (27/39)\u001b[K\rremote: Counting objects:  71% (28/39)\u001b[K\rremote: Counting objects:  74% (29/39)\u001b[K\rremote: Counting objects:  76% (30/39)\u001b[K\rremote: Counting objects:  79% (31/39)\u001b[K\rremote: Counting objects:  82% (32/39)\u001b[K\rremote: Counting objects:  84% (33/39)\u001b[K\rremote: Counting objects:  87% (34/39)\u001b[K\rremote: Counting objects:  89% (35/39)\u001b[K\rremote: Counting objects:  92% (36/39)\u001b[K\rremote: Counting objects:  94% (37/39)\u001b[K\rremote: Counting objects:  97% (38/39)\u001b[K\rremote: Counting objects: 100% (39/39)\u001b[K\rremote: Counting objects: 100% (39/39), done.\u001b[K\n",
            "remote: Compressing objects: 100% (35/35), done.\u001b[K\n",
            "remote: Total 39 (delta 8), reused 20 (delta 1), pack-reused 0\u001b[K\n",
            "Unpacking objects: 100% (39/39), done.\n"
          ]
        }
      ],
      "source": [
        "!git clone https://github.com/Xalp/NLP1d"
      ]
    },
    {
      "cell_type": "code",
      "source": [
        "import os\n",
        "os.chdir(\"/content/NLP1d\")"
      ],
      "metadata": {
        "id": "sxP9oFwORJ-s"
      },
      "execution_count": null,
      "outputs": []
    },
    {
      "cell_type": "markdown",
      "source": [
        "## Part 1"
      ],
      "metadata": {
        "id": "kfNRbhTuSQm9"
      }
    },
    {
      "cell_type": "code",
      "source": [
        "# Emission probability\n",
        "from collections import defaultdict\n",
        "import numpy as np\n",
        "def emission(train):\n",
        "    '''\n",
        "    x: str, word\n",
        "    y: str, tag\n",
        "    train: training set path\n",
        "    '''\n",
        "    count_y_x = defaultdict(float)\n",
        "    count_y  = defaultdict(float)\n",
        "    emission_probs = defaultdict(float)\n",
        "    dict_f = defaultdict()\n",
        "    with open(train) as f:\n",
        "        for line in f.readlines():\n",
        "            if line == '\\n': continue\n",
        "            x, y = line.split()\n",
        "            count_y_x[(y,x)] += 1\n",
        "    \n",
        "    for (y,x), cnt in count_y_x.items():\n",
        "        count_y[y] += cnt\n",
        "    for (y,x) in count_y_x.keys():\n",
        "        e_x_y = count_y_x[(y,x)]/count_y[y]\n",
        "        emission_probs[(x,y)] = np.log(e_x_y)\n",
        "        str_x_y = 'emission:'+str(y)+'+'+str(x)\n",
        "        dict_f[str_x_y] = np.log(e_x_y)\n",
        "\n",
        "    return emission_probs, dict_f\n"
      ],
      "metadata": {
        "id": "34x3t-nISV8T"
      },
      "execution_count": null,
      "outputs": []
    },
    {
      "cell_type": "code",
      "source": [
        "import numpy as np\n",
        "# Transition probability\n",
        "def transition(train):\n",
        "  with open(train,\"r\") as f:\n",
        "    data = f.read().rstrip().splitlines()\n",
        "\n",
        "  count_bigram = {}\n",
        "  count_unigram = {}\n",
        "\n",
        "  count_unigram[\"START\"] = 0\n",
        "  count_unigram[\"STOP\"] = 0\n",
        "\n",
        "  for i in range(len(data)):\n",
        "    inst = data[i]\n",
        "    # if this is an empty line:\n",
        "    if len(inst) == 0:\n",
        "      # building with previous inst\n",
        "      tag = \"STOP\"\n",
        "      if i != 0:\n",
        "        prev_inst = data[i-1]\n",
        "        prev_tag = prev_inst.split()[-1]\n",
        "        if (tag, prev_tag) not in count_bigram.keys():\n",
        "          count_bigram[(tag, prev_tag)] = 1\n",
        "        else:\n",
        "          count_bigram[(tag, prev_tag)] += 1\n",
        "      # building with the next inst\n",
        "      tag = \"START\"\n",
        "      if i != len(data) - 1:\n",
        "        next_inst = data[i+1]\n",
        "        next_tag = next_inst.split()[-1]\n",
        "        if (tag, next_tag) not in count_bigram.keys():\n",
        "          count_bigram[(tag, next_tag)] = 1\n",
        "        else:\n",
        "          count_bigram[(tag, next_tag)] += 1\n",
        "      # increase the count of start and stop\n",
        "      count_unigram[\"START\"] += 1\n",
        "      count_unigram[\"STOP\"] += 1\n",
        "      continue\n",
        "    # do in all cases:\n",
        "    tag = inst.split()[-1]\n",
        "    if tag not in count_unigram.keys():\n",
        "      count_unigram[tag] = 1\n",
        "    else:\n",
        "      count_unigram[tag] += 1\n",
        "    # if not the last inst:\n",
        "    if i != len(data) - 1:\n",
        "      next_inst = data[i+1]\n",
        "      if len(next_inst) == 0:\n",
        "        continue\n",
        "      next_tag = next_inst.split()[-1]\n",
        "      if (tag, next_tag) not in count_bigram.keys():\n",
        "        count_bigram[(tag, next_tag)] = 1\n",
        "      else:\n",
        "        count_bigram[(tag, next_tag)] += 1\n",
        "\n",
        "  # calculate transition matrix\n",
        "  f = {}\n",
        "  q = {}\n",
        "  for (y_1, y_2), count_bi in count_bigram.items():\n",
        "    _str_ = \"transition:\" + y_1 + \"+\" + y_2\n",
        "    q[(y_1, y_2)] = np.log(count_bi / count_unigram[y_1])\n",
        "    if count_bi == 0:\n",
        "      f[_str_] = - np.inf\n",
        "    else:\n",
        "      f[_str_] = np.log(count_bi / count_unigram[y_1])\n",
        "  return q, f\n",
        "\n"
      ],
      "metadata": {
        "id": "DYS6igPiS099"
      },
      "execution_count": null,
      "outputs": []
    },
    {
      "cell_type": "code",
      "source": [
        "e,f = emission(\"/content/NLP1d/dataset/train\")\n",
        "q,f1 = transition(\"/content/NLP1d/dataset/train\")\n",
        "f.update(f1)"
      ],
      "metadata": {
        "id": "uafZEJuUk1Qf"
      },
      "execution_count": null,
      "outputs": []
    },
    {
      "cell_type": "markdown",
      "source": [
        "## Part 2"
      ],
      "metadata": {
        "id": "YOUOmnDPeJYU"
      }
    },
    {
      "cell_type": "code",
      "source": [
        "def tokenize(file_path):  \n",
        "    data, lst = [], []\n",
        "    with open(file_path, 'r') as f:  \n",
        "        for line in f:\n",
        "            if line== '\\n':\n",
        "                data.append(lst)\n",
        "                lst = []\n",
        "            else:\n",
        "                lines = line.replace(\"\\n\",'').split(\" \")\n",
        "                lst.append(tuple(lines))\n",
        "    return data\n",
        "\n",
        "train_sentences = tokenize('/content/NLP1d/dataset/train')"
      ],
      "metadata": {
        "id": "nfj-GCIDnlmN"
      },
      "execution_count": null,
      "outputs": []
    },
    {
      "cell_type": "code",
      "source": [
        "def wordtags(data):\n",
        "  all_words, all_tags = [], []\n",
        "  for lst in data:         \n",
        "    for wordTuples in lst:\n",
        "      all_tags.append(wordTuples[1])\n",
        "      all_words.append(wordTuples[0])\n",
        "  all_words, all_tags = list(set(all_words)), list(set(all_tags))\n",
        "  return all_words, all_tags\n",
        "\n",
        "all_words, all_tags = wordtags(train_sentences)\n"
      ],
      "metadata": {
        "id": "s4vBhBJInsfU"
      },
      "execution_count": null,
      "outputs": []
    },
    {
      "cell_type": "code",
      "source": [
        "def score_sequence(xy,dict_transition,dict_emission):\n",
        "  x = [x[0] for x in xy]\n",
        "  y = ['START']+[y[1] for y in xy]+['STOP']\n",
        "  sum=0\n",
        "  for i in range(len(x)):\n",
        "    key = (x[i], y[i+1])\n",
        "    sum+= dict_emission[key]\n",
        "  for j in range(1, len(y)):\n",
        "    key = (y[j-1], y[j])\n",
        "    if y[j]=='STOP':\n",
        "      key = (y[j], y[j-1])\n",
        "    sum+= dict_transition[key]\n",
        "  return sum\n",
        "\n",
        "score_sequence(train_sentences[0],q,e)"
      ],
      "metadata": {
        "id": "rGgYPqBqqmtd",
        "colab": {
          "base_uri": "https://localhost:8080/"
        },
        "outputId": "a4bd156c-909e-4656-8c12-70ddfc63c5c4"
      },
      "execution_count": null,
      "outputs": [
        {
          "output_type": "execute_result",
          "data": {
            "text/plain": [
              "-82.94749484771204"
            ]
          },
          "metadata": {},
          "execution_count": 18
        }
      ]
    },
    {
      "cell_type": "code",
      "source": [
        "def viterbi(sentence, tags, dict_transition, dict_emission):    \n",
        "  saved_score = [{}]\n",
        "  path = {}\n",
        "    \n",
        "  for tag in tags:\n",
        "    saved_score[0][tag] = dict_transition.get(('START',tag),0) + dict_emission.get((sentence[0][0],tag),-2147483648)\n",
        "    path[tag] = [tag]\n",
        "  #print(saved_score)\n",
        "\n",
        "  for word_idx in range(1,len(sentence)):\n",
        "    saved_score.append({})\n",
        "    path_temp = {}\n",
        "\n",
        "    for y in tags:\n",
        "      score_list_temp=[]\n",
        "      for y0 in tags:\n",
        "        score_list_temp.append((saved_score[word_idx-1][y0] + dict_transition.get((y0,y),0) + dict_emission.get((sentence[word_idx][0],y),-2147483648), y0))\n",
        "      (max_score, tag) = max(score_list_temp)\n",
        "      saved_score[word_idx][y] = max_score\n",
        "      path_temp[y] = path[tag] + [y]\n",
        "\n",
        "    path = path_temp\n",
        "  #print(saved_score)  \n",
        "  (max_score, tag) = max([(saved_score[len(sentence)-1][y] + dict_transition.get(('STOP',y),0), y) for y in tags])\n",
        "  #print(path[tag])\n",
        "  return max_score, path[tag]"
      ],
      "metadata": {
        "id": "Ng1AZgrrg16i"
      },
      "execution_count": null,
      "outputs": []
    },
    {
      "cell_type": "code",
      "source": [
        "with open(\"/content/NLP1d/dataset/dev.p2.out\", \"w\") as outfile:\n",
        "  for sentence in tokenize('/content/NLP1d/dataset/dev.in'):\n",
        "    predicted_sequence = viterbi(sentence, all_tags, q, e)[1]\n",
        "\n",
        "    for i in range(len(sentence)):\n",
        "      line = \"{} {}\\n\".format(sentence[i][0], predicted_sequence[i])\n",
        "      outfile.write(line)\n",
        "\n",
        "    outfile.write(\"\\n\")"
      ],
      "metadata": {
        "id": "12bJQIObg4xn"
      },
      "execution_count": null,
      "outputs": []
    }
  ]
}