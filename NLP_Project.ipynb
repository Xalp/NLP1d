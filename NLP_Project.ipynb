{
  "nbformat": 4,
  "nbformat_minor": 0,
  "metadata": {
    "colab": {
      "name": "NLP-Project.ipynb",
      "provenance": [],
      "collapsed_sections": [],
      "include_colab_link": true
    },
    "kernelspec": {
      "name": "python3",
      "display_name": "Python 3"
    },
    "language_info": {
      "name": "python"
    }
  },
  "cells": [
    {
      "cell_type": "markdown",
      "metadata": {
        "id": "view-in-github",
        "colab_type": "text"
      },
      "source": [
        "<a href=\"https://colab.research.google.com/github/Xalp/NLP1d/blob/master/NLP_Project.ipynb\" target=\"_parent\"><img src=\"https://colab.research.google.com/assets/colab-badge.svg\" alt=\"Open In Colab\"/></a>"
      ]
    },
    {
      "cell_type": "code",
      "execution_count": null,
      "metadata": {
        "id": "l5LnwytmOmzJ",
        "outputId": "d728aa6e-7836-46bb-bd8c-a2ad013d16a8",
        "colab": {
          "base_uri": "https://localhost:8080/"
        }
      },
      "outputs": [
        {
          "output_type": "stream",
          "name": "stdout",
          "text": [
            "Cloning into 'NLP1d'...\n",
            "remote: Enumerating objects: 23, done.\u001b[K\n",
            "remote: Counting objects: 100% (23/23), done.\u001b[K\n",
            "remote: Compressing objects: 100% (20/20), done.\u001b[K\n",
            "remote: Total 23 (delta 1), reused 17 (delta 0), pack-reused 0\u001b[K\n",
            "Unpacking objects: 100% (23/23), done.\n"
          ]
        }
      ],
      "source": [
        "!git clone https://github.com/Xalp/NLP1d"
      ]
    },
    {
      "cell_type": "code",
      "source": [
        "import os\n",
        "os.chdir(\"/content/NLP1d\")"
      ],
      "metadata": {
        "id": "sxP9oFwORJ-s"
      },
      "execution_count": null,
      "outputs": []
    },
    {
      "cell_type": "markdown",
      "source": [
        "## Part 1"
      ],
      "metadata": {
        "id": "kfNRbhTuSQm9"
      }
    },
    {
      "cell_type": "code",
      "source": [
        "# Emission probability\n",
        "from collections import defaultdict\n",
        "import numpy as np\n",
        "def emission(train):\n",
        "    '''\n",
        "    x: str, word\n",
        "    y: str, tag\n",
        "    train: training set path\n",
        "    '''\n",
        "    count_y_x = defaultdict(float)\n",
        "    count_y  = defaultdict(float)\n",
        "    emission_probs = defaultdict(float)\n",
        "    dict_f = defaultdict()\n",
        "    with open(train) as f:\n",
        "        for line in f.readlines():\n",
        "            if line == '\\n': continue\n",
        "            x, y = line.split()\n",
        "            count_y_x[(y,x)] += 1\n",
        "    \n",
        "    for (y,x), cnt in count_y_x.items():\n",
        "        count_y[y] += cnt\n",
        "    for (y,x) in count_y_x.keys():\n",
        "        e_x_y = count_y_x[(y,x)]/count_y[y]\n",
        "        emission_probs[(x,y)] = e_x_y\n",
        "        str_x_y = 'emission:'+str(y)+'+'+str(x)\n",
        "        dict_f[str_x_y] = np.log(e_x_y)\n",
        "\n",
        "    return emission_probs, dict_f\n"
      ],
      "metadata": {
        "id": "34x3t-nISV8T"
      },
      "execution_count": null,
      "outputs": []
    },
    {
      "cell_type": "code",
      "source": [
        "import numpy as np\n",
        "# Transition probability\n",
        "def transition(train):\n",
        "  with open(train,\"r\") as f:\n",
        "    data = f.read().rstrip().splitlines()\n",
        "\n",
        "  count_bigram = {}\n",
        "  count_unigram = {}\n",
        "\n",
        "  count_unigram[\"START\"] = 0\n",
        "  count_unigram[\"STOP\"] = 0\n",
        "\n",
        "  for i in range(len(data)):\n",
        "    inst = data[i]\n",
        "    # if this is an empty line:\n",
        "    if len(inst) == 0:\n",
        "      # building with previous inst\n",
        "      tag = \"STOP\"\n",
        "      if i != 0:\n",
        "        prev_inst = data[i-1]\n",
        "        prev_tag = prev_inst.split()[-1]\n",
        "        if (tag, prev_tag) not in count_bigram.keys():\n",
        "          count_bigram[(tag, prev_tag)] = 1\n",
        "        else:\n",
        "          count_bigram[(tag, prev_tag)] += 1\n",
        "      # building with the next inst\n",
        "      tag = \"START\"\n",
        "      if i != len(data) - 1:\n",
        "        next_inst = data[i+1]\n",
        "        next_tag = next_inst.split()[-1]\n",
        "        if (tag, next_tag) not in count_bigram.keys():\n",
        "          count_bigram[(tag, next_tag)] = 1\n",
        "        else:\n",
        "          count_bigram[(tag, next_tag)] += 1\n",
        "      # increase the count of start and stop\n",
        "      count_unigram[\"START\"] += 1\n",
        "      count_unigram[\"STOP\"] += 1\n",
        "      continue\n",
        "    # do in all cases:\n",
        "    tag = inst.split()[-1]\n",
        "    if tag not in count_unigram.keys():\n",
        "      count_unigram[tag] = 1\n",
        "    else:\n",
        "      count_unigram[tag] += 1\n",
        "    # if not the last inst:\n",
        "    if i != len(data) - 1:\n",
        "      next_inst = data[i+1]\n",
        "      if len(next_inst) == 0:\n",
        "        continue\n",
        "      next_tag = next_inst.split()[-1]\n",
        "      if (tag, next_tag) not in count_bigram.keys():\n",
        "        count_bigram[(tag, next_tag)] = 1\n",
        "      else:\n",
        "        count_bigram[(tag, next_tag)] += 1\n",
        "\n",
        "  # calculate transition matrix\n",
        "  f = {}\n",
        "  q = {}\n",
        "  for (y_1, y_2), count_bi in count_bigram.items():\n",
        "    _str_ = \"transition:\" + y_1 + \"+\" + y_2\n",
        "    q[(y_1, y_2)] = count_bi / count_unigram[y_1]\n",
        "    if count_bi == 0:\n",
        "      f[_str_] = - np.inf\n",
        "    else:\n",
        "      f[_str_] = np.log(count_bi / count_unigram[y_1])\n",
        "  return q, f\n",
        "\n"
      ],
      "metadata": {
        "id": "DYS6igPiS099"
      },
      "execution_count": null,
      "outputs": []
    },
    {
      "cell_type": "code",
      "source": [
        "e,f = emission(\"/content/NLP1d/dataset/train\")\n",
        "q,f1 = transition(\"/content/NLP1d/dataset/train\")\n",
        "f.update(f1)"
      ],
      "metadata": {
        "id": "uafZEJuUk1Qf"
      },
      "execution_count": null,
      "outputs": []
    },
    {
      "cell_type": "markdown",
      "source": [
        "## Part 2"
      ],
      "metadata": {
        "id": "YOUOmnDPeJYU"
      }
    },
    {
      "cell_type": "code",
      "source": [
        "def score_sequence(x,y,dict_transition,dict_emission):\n",
        "  y.append(\"STOP\")\n",
        "  y.insert(0,\"START\")\n",
        "  sum=0\n",
        "  for i in range(1,len(y)):\n",
        "    _str_ = \"transition:\" + y[i-1] + \"+\" + y[i]\n",
        "    sum += dict_transition[_str_]\n",
        "    if i != (len(y)-1):\n",
        "      _str_ = \"emission:\" + y[i] + \"+\" + x[i-1]\n",
        "      score += dict_emission[_str_]\n",
        "  return sum"
      ],
      "metadata": {
        "id": "nfj-GCIDnlmN"
      },
      "execution_count": null,
      "outputs": []
    },
    {
      "cell_type": "code",
      "source": [
        ""
      ],
      "metadata": {
        "id": "s4vBhBJInsfU"
      },
      "execution_count": null,
      "outputs": []
    },
    {
      "cell_type": "code",
      "source": [
        ""
      ],
      "metadata": {
        "id": "rGgYPqBqqmtd"
      },
      "execution_count": null,
      "outputs": []
    }
  ]
}